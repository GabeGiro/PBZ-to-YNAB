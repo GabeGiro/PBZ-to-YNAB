{
 "cells": [
  {
   "cell_type": "markdown",
   "metadata": {},
   "source": [
    "# 💳 OCR Transaction Extractor - April 2025\n",
    "\n",
    "This notebook extracts transactions from bank statement screenshots using Tesseract OCR and saves them to a CSV."
   ]
  },
  {
   "cell_type": "code",
   "execution_count": null,
   "metadata": {},
   "outputs": [],
   "source": [
    "# 📦 Install dependencies\n",
    "!pip install pytesseract opencv-python pandas numpy"
   ]
  },
  {
   "cell_type": "code",
   "execution_count": null,
   "metadata": {},
   "outputs": [],
   "source": [
    "import cv2\n",
    "import pytesseract\n",
    "import pandas as pd\n",
    "import re\n",
    "from datetime import datetime"
   ]
  },
  {
   "cell_type": "code",
   "execution_count": null,
   "metadata": {},
   "outputs": [],
   "source": [
    "!tesseract --version"
   ]
  },
  {
   "cell_type": "markdown",
   "metadata": {},
   "source": [
    "### 🔧 Month mapping for Croatian abbreviations"
   ]
  },
  {
   "cell_type": "code",
   "execution_count": null,
   "metadata": {},
   "outputs": [],
   "source": [
    "month_map = {\n",
    "    \"SIJ\": 1, \"VEL\": 2, \"OŽU\": 3, \"TRA\": 4, \"SVI\": 5,\n",
    "    \"LIP\": 6, \"SRP\": 7, \"KOL\": 8, \"RUJ\": 9, \"LIS\": 10,\n",
    "    \"STU\": 11, \"PRO\": 12\n",
    "}"
   ]
  },
  {
   "cell_type": "code",
   "execution_count": null,
   "metadata": {},
   "outputs": [],
   "source": [
    "year=2025"
   ]
  },
  {
   "cell_type": "markdown",
   "metadata": {},
   "source": [
    "### 📥 OCR + Regex Parser Function"
   ]
  },
  {
   "cell_type": "code",
   "execution_count": null,
   "metadata": {},
   "outputs": [],
   "source": [
    "def extract_transactions_from_image(image_path):\n",
    "    image = cv2.imread(image_path)\n",
    "    gray = cv2.cvtColor(image, cv2.COLOR_BGR2GRAY)\n",
    "\n",
    "    raw_text = pytesseract.image_to_string(gray)\n",
    "    lines = raw_text.split('\\n')\n",
    "    data = []\n",
    "    current_date = \"\"\n",
    "\n",
    "    for i, line in enumerate(lines):\n",
    "        date_match = re.match(r'(\\d{1,2})\\s+([A-ZČŽŠ]{3})', line.strip())\n",
    "        if date_match:\n",
    "            day, month_abbr = date_match.groups()\n",
    "            day = int(day)\n",
    "            month = month_map.get(month_abbr.upper(), 4)\n",
    "            current_date = datetime(year, month, day).strftime('%Y-%m-%d')\n",
    "        elif \"EUR\" in line:\n",
    "            amount_match = re.search(r'([-+]?\\d+,\\d+)\\s*EUR', line)\n",
    "            if amount_match and i > 0:\n",
    "                amount = amount_match.group(1).replace(',', '.')\n",
    "                prev_line = lines[i-1].strip()\n",
    "                data.append({\n",
    "                    'Date': current_date,\n",
    "                    'Description': prev_line,\n",
    "                    'Amount (EUR)': float(amount)\n",
    "                })\n",
    "    return pd.DataFrame(data)"
   ]
  },
  {
   "cell_type": "markdown",
   "metadata": {},
   "source": [
    "### 🔍 Load an Image and Extract Transactions"
   ]
  },
  {
   "cell_type": "code",
   "execution_count": null,
   "metadata": {},
   "outputs": [],
   "source": [
    "# Replace 'your_image.png' with your file path\n",
    "df = extract_transactions_from_image(\"data/sensitive/test_image.png\")\n",
    "df.to_csv(\"data/sensitive/transactions.csv\", index=False)\n",
    "df.head()"
   ]
  }
 ],
 "metadata": {
  "kernelspec": {
   "display_name": "Python 3 (ipykernel)",
   "language": "python",
   "name": "python3"
  },
  "language_info": {
   "codemirror_mode": {
    "name": "ipython",
    "version": 3
   },
   "file_extension": ".py",
   "mimetype": "text/x-python",
   "name": "python",
   "nbconvert_exporter": "python",
   "pygments_lexer": "ipython3",
   "version": "3.12.10"
  }
 },
 "nbformat": 4,
 "nbformat_minor": 4
}
