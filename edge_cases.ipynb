{
 "cells": [
  {
   "cell_type": "markdown",
   "metadata": {},
   "source": [
    "# Edge cases\n",
    "\n",
    "This notebook makes sure all edge cases are handled correctly."
   ]
  },
  {
   "cell_type": "code",
   "execution_count": null,
   "metadata": {},
   "outputs": [],
   "source": [
    "# This is to enable autoreload of modules in Jupyter notebooks\n",
    "# It allows you to see changes in your code without restarting the kernel\n",
    "# Make sure to run this cell before running any other cells that depend on your modules\n",
    "%reload_ext autoreload\n",
    "%autoreload 2"
   ]
  },
  {
   "cell_type": "code",
   "execution_count": null,
   "metadata": {},
   "outputs": [],
   "source": [
    "# 📦 Install dependencies\n",
    "!pip install pytesseract opencv-python pandas numpy matplotlib"
   ]
  },
  {
   "cell_type": "code",
   "execution_count": null,
   "metadata": {},
   "outputs": [],
   "source": [
    "import src.transactions as transactions\n",
    "import src.constants as constants\n",
    "import matplotlib.pyplot as plt\n",
    "import cv2"
   ]
  },
  {
   "cell_type": "markdown",
   "metadata": {},
   "source": [
    "## Test Image Extension - Edge Case 1\n",
    "\n",
    "The upper case \".PNG\" image extension was not being recognized correctly, causing the image to not load."
   ]
  },
  {
   "cell_type": "code",
   "execution_count": null,
   "metadata": {},
   "outputs": [],
   "source": [
    "test_image_directory = \"data/sensitive/edge_cases\""
   ]
  },
  {
   "cell_type": "code",
   "execution_count": null,
   "metadata": {},
   "outputs": [],
   "source": [
    "import src.main as main\n",
    "\n",
    "# Commented out to speed up the rest of the notebook\n",
    "# main.extract_transactions_from_images_in_directory(test_image_directory)"
   ]
  },
  {
   "cell_type": "markdown",
   "metadata": {},
   "source": [
    "### Test Case 1 Result \n",
    "\n",
    "Successful if no error is raised."
   ]
  },
  {
   "cell_type": "markdown",
   "metadata": {},
   "source": [
    "## Test - Edge Case 2\n",
    "\n",
    "Description with \"EUROPE\" was being recognized as an amount because it contains \"EUR\" in it."
   ]
  },
  {
   "cell_type": "code",
   "execution_count": null,
   "metadata": {},
   "outputs": [],
   "source": [
    "test_image_path = \"data/sensitive/edge_cases/test_image_edge_case_2.PNG\"\n",
    "test_transactions_output_path = \"data/sensitive/edge_cases/transactions_edge_case_2.csv\""
   ]
  },
  {
   "cell_type": "code",
   "execution_count": null,
   "metadata": {},
   "outputs": [],
   "source": [
    "cropped_images = transactions.get_cropped_dates_and_transactions_images(test_image_path)\n",
    "plt.imshow(cropped_images.transactions_image)\n",
    "plt.axis('off')  \n",
    "plt.show()"
   ]
  },
  {
   "cell_type": "code",
   "execution_count": null,
   "metadata": {},
   "outputs": [],
   "source": [
    "transactions.count_number_of_descriptions(cropped_images.transactions_image)"
   ]
  },
  {
   "cell_type": "markdown",
   "metadata": {},
   "source": [
    "### Test Case 2 Result"
   ]
  },
  {
   "cell_type": "code",
   "execution_count": null,
   "metadata": {},
   "outputs": [],
   "source": [
    "number_of_descriptions = transactions.count_number_of_descriptions(cropped_images.transactions_image)\n",
    "number_of_descriptions == 6"
   ]
  },
  {
   "cell_type": "markdown",
   "metadata": {},
   "source": [
    "## Test - Edge Case 3\n",
    "\n",
    "Day \"11\" of the month was being recognized as number \"1\" in some cases."
   ]
  },
  {
   "cell_type": "code",
   "execution_count": null,
   "metadata": {},
   "outputs": [],
   "source": [
    "test_image_path = \"data/sensitive/edge_cases/test_image_edge_case_3.PNG\"\n",
    "test_transactions_output_path = \"data/sensitive/edge_cases/transactions_edge_case_3.csv\""
   ]
  },
  {
   "cell_type": "code",
   "execution_count": null,
   "metadata": {},
   "outputs": [],
   "source": [
    "cropped_images = transactions.get_cropped_dates_and_transactions_images(test_image_path)\n",
    "plt.imshow(cropped_images.dates_image)\n",
    "plt.axis('off')  \n",
    "plt.show()"
   ]
  },
  {
   "cell_type": "code",
   "execution_count": null,
   "metadata": {},
   "outputs": [],
   "source": [
    "transactions.count_number_of_dates(cropped_images.dates_image)"
   ]
  },
  {
   "cell_type": "code",
   "execution_count": null,
   "metadata": {},
   "outputs": [],
   "source": [
    "# Debug raw OCR output for dates image\n",
    "raw_dates_text = transactions.extract_text_from_image_with_config_for_dates(cropped_images.dates_image)\n",
    "print(\"Raw OCR Output for Dates:\")\n",
    "print(raw_dates_text)"
   ]
  },
  {
   "cell_type": "markdown",
   "metadata": {},
   "source": [
    "### Test Case 3 Result"
   ]
  },
  {
   "cell_type": "code",
   "execution_count": null,
   "metadata": {},
   "outputs": [],
   "source": [
    "\"\"\"12\n",
    "SVI\n",
    "11\n",
    "SVI\n",
    "11\n",
    "SVI\n",
    "11\n",
    "SVI\n",
    "10\n",
    "SVI\n",
    "10\n",
    "SVI\"\"\" == raw_dates_text"
   ]
  },
  {
   "cell_type": "markdown",
   "metadata": {},
   "source": [
    "## Test - Edge Case 4\n",
    "\n",
    "Day \"11\" of the month was being recognized as capital letter \"I\" in some cases."
   ]
  },
  {
   "cell_type": "code",
   "execution_count": null,
   "metadata": {},
   "outputs": [],
   "source": [
    "test_image_path = \"data/sensitive/edge_cases/test_image_edge_case_4.PNG\"\n",
    "test_transactions_output_path = \"data/sensitive/edge_cases/transactions_edge_case_4.csv\""
   ]
  },
  {
   "cell_type": "code",
   "execution_count": null,
   "metadata": {},
   "outputs": [],
   "source": [
    "cropped_images = transactions.get_cropped_dates_and_transactions_images(test_image_path)\n",
    "plt.imshow(cropped_images.dates_image)\n",
    "plt.axis('off') \n",
    "plt.show()"
   ]
  },
  {
   "cell_type": "code",
   "execution_count": null,
   "metadata": {},
   "outputs": [],
   "source": [
    "# Debug raw OCR output for dates image\n",
    "raw_dates_text = transactions.extract_text_from_image_with_config_for_dates(cropped_images.dates_image)\n",
    "print(\"Raw OCR Output for Dates:\")\n",
    "print(raw_dates_text)"
   ]
  },
  {
   "cell_type": "markdown",
   "metadata": {},
   "source": [
    "### Test Case 3 Result"
   ]
  },
  {
   "cell_type": "code",
   "execution_count": null,
   "metadata": {},
   "outputs": [],
   "source": [
    "\"\"\"12\n",
    "SRP\n",
    "12\n",
    "SRP\n",
    "11\n",
    "SRP\n",
    "11\n",
    "SRP\n",
    "11\n",
    "SRP\n",
    "11\n",
    "SRP\"\"\" == raw_dates_text"
   ]
  },
  {
   "cell_type": "markdown",
   "metadata": {},
   "source": [
    "## Test - Edge Case 5\n",
    "\n",
    "+1.000,00 EUR income was being recognized as 0,00 EUR."
   ]
  },
  {
   "cell_type": "code",
   "execution_count": null,
   "metadata": {},
   "outputs": [],
   "source": [
    "test_image_path = \"data/sensitive/edge_cases/test_image_edge_case_5.PNG\"\n",
    "test_transactions_output_path = \"data/sensitive/edge_cases/transactions_edge_case_5.csv\""
   ]
  },
  {
   "cell_type": "code",
   "execution_count": null,
   "metadata": {},
   "outputs": [],
   "source": [
    "cropped_images = transactions.get_cropped_dates_and_transactions_images(test_image_path)\n",
    "plt.imshow(cropped_images.transactions_image)\n",
    "plt.axis('off')  \n",
    "plt.show()"
   ]
  },
  {
   "cell_type": "code",
   "execution_count": null,
   "metadata": {},
   "outputs": [],
   "source": [
    "transactions.count_number_of_amounts(cropped_images.transactions_image)"
   ]
  },
  {
   "cell_type": "code",
   "execution_count": null,
   "metadata": {},
   "outputs": [],
   "source": [
    "transactions.get_list_of_amounts(cropped_images.transactions_image)"
   ]
  },
  {
   "cell_type": "code",
   "execution_count": null,
   "metadata": {},
   "outputs": [],
   "source": [
    "transactions.get_list_of_formatted_amounts(cropped_images.transactions_image)"
   ]
  },
  {
   "cell_type": "markdown",
   "metadata": {},
   "source": [
    "### Test Case 5 Result"
   ]
  },
  {
   "cell_type": "code",
   "execution_count": null,
   "metadata": {},
   "outputs": [],
   "source": [
    "amounts = transactions.get_list_of_formatted_amounts(cropped_images.transactions_image)\n",
    "# Check if the amounts contain 0.0\n",
    "0.0 not in amounts"
   ]
  }
 ],
 "metadata": {
  "kernelspec": {
   "display_name": "Python 3 (ipykernel)",
   "language": "python",
   "name": "python3"
  },
  "language_info": {
   "codemirror_mode": {
    "name": "ipython",
    "version": 3
   },
   "file_extension": ".py",
   "mimetype": "text/x-python",
   "name": "python",
   "nbconvert_exporter": "python",
   "pygments_lexer": "ipython3",
   "version": "3.12.10"
  }
 },
 "nbformat": 4,
 "nbformat_minor": 4
}
